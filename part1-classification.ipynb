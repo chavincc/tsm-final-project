{
 "cells": [
  {
   "cell_type": "code",
   "execution_count": 1,
   "metadata": {},
   "outputs": [],
   "source": [
    "# !pip install numba"
   ]
  },
  {
   "cell_type": "code",
   "execution_count": 1,
   "metadata": {},
   "outputs": [],
   "source": [
    "import numpy as np\n",
    "import glob\n",
    "import os\n",
    "\n",
    "X_train = []\n",
    "X_test = []\n",
    "y_train = []\n",
    "y_test = []\n",
    "\n",
    "used = ['Adiac', 'Beef', 'Coffee', 'ECG200', 'FISH', 'Gun_Point', 'SwedishLeaf', 'Trace']\n",
    "\n",
    "for f_name in glob.glob('ClassificationClusteringDatasets/*_TRAIN'):\n",
    "    label = os.path.split(f_name)[1].replace('_TRAIN', '')\n",
    "    if label not in used:\n",
    "        continue\n",
    "    with open(f_name, 'r') as f:\n",
    "        ts = f.read()\n",
    "        for t in ts.split('\\n'):\n",
    "            if(t.strip() == ''):\n",
    "                continue\n",
    "            X_train.append([float(i) for i in t.split()])\n",
    "            y_train.append(label)\n",
    "\n",
    "for f_name in glob.glob('ClassificationClusteringDatasets/*_TEST'):\n",
    "    label = os.path.split(f_name)[1].replace('_TEST', '')\n",
    "    if label not in used:\n",
    "        continue\n",
    "    with open(f_name, 'r') as f:\n",
    "        ts = f.read()\n",
    "        for t in ts.split('\\n'):\n",
    "            if(t.strip() == ''):\n",
    "                continue\n",
    "            X_test.append([float(i) for i in t.split()])\n",
    "            y_test.append(label)\n",
    "            \n"
   ]
  },
  {
   "cell_type": "code",
   "execution_count": 2,
   "metadata": {},
   "outputs": [
    {
     "data": {
      "text/plain": [
       "(array([100., 500.,  50.,   0., 390.,   0.,   0.,   0.,   0., 100.,  28.,\n",
       "          0.,   0.,   0.,   0.,   0.,   0.,   0.,   0., 205.]),\n",
       " array([ 97. , 115.7, 134.4, 153.1, 171.8, 190.5, 209.2, 227.9, 246.6,\n",
       "        265.3, 284. , 302.7, 321.4, 340.1, 358.8, 377.5, 396.2, 414.9,\n",
       "        433.6, 452.3, 471. ]),\n",
       " <BarContainer object of 20 artists>)"
      ]
     },
     "execution_count": 2,
     "metadata": {},
     "output_type": "execute_result"
    },
    {
     "data": {
      "image/png": "[encoded data removed]",
      "text/plain": [
       "<Figure size 432x288 with 1 Axes>"
      ]
     },
     "metadata": {
      "needs_background": "light"
     },
     "output_type": "display_data"
    }
   ],
   "source": [
    "from matplotlib import pyplot as plt\n",
    "\n",
    "plt.hist([len(i) for i in X_train], bins=20)"
   ]
  },
  {
   "cell_type": "code",
   "execution_count": 3,
   "metadata": {},
   "outputs": [
    {
     "data": {
      "text/plain": [
       "SwedishLeaf    625\n",
       "Adiac          391\n",
       "FISH           175\n",
       "Gun_Point      150\n",
       "ECG200         100\n",
       "Trace          100\n",
       "Beef            30\n",
       "Coffee          28\n",
       "Name: 0, dtype: int64"
      ]
     },
     "execution_count": 3,
     "metadata": {},
     "output_type": "execute_result"
    }
   ],
   "source": [
    "import pandas as pd\n",
    "\n",
    "df = pd.DataFrame(y_test)\n",
    "df[0].value_counts()"
   ]
  },
  {
   "cell_type": "code",
   "execution_count": 23,
   "metadata": {},
   "outputs": [],
   "source": [
    "from numba import jit\n",
    "import random\n",
    "\n",
    "@jit(nopython=True)\n",
    "def dtw(a, b, norm_order=2):\n",
    "    if len(a) != len(b):\n",
    "        raise Exception('lenght of a is not equal to b')\n",
    "    r = len(a) // 10\n",
    "    dp = np.zeros((len(a), len(b)))\n",
    "    for j in range(0, r+1):\n",
    "        dp[0, j] = abs(a[0] - b[j]) ** norm_order\n",
    "    for i in range(len(a)):\n",
    "        for j in range(i-r, min(i+r+1, len(b))):\n",
    "            min_prev = dp[i-1, j]\n",
    "            if j > 0:\n",
    "                min_prev = min(min_prev, dp[i-1, j-1])\n",
    "                min_prev = min(min_prev, dp[i, j-1])\n",
    "            dp[i, j] = abs(a[i] - b[j]) ** norm_order + min_prev\n",
    "    return dp[len(a) - 1, len(b) - 1]\n",
    "\n",
    "@jit(nopython=True)\n",
    "def g(i, j, dp):\n",
    "        return dp[i][j]\n",
    "\n",
    "@jit(nopython=True)\n",
    "def d(i, j, a, b, norm_order):\n",
    "    return abs(a[i] - b[j])**norm_order\n",
    "\n",
    "@jit(nopython=True)\n",
    "def dtw_extra_neighbor(a, b, norm_order=2):\n",
    "    if len(a) != len(b):\n",
    "        raise Exception('lenght of a is not equal to b')\n",
    "    r = len(a) // 10\n",
    "    dp = np.zeros((len(a), len(b)))\n",
    "    for j in range(0, r+1):\n",
    "        dp[0, j] = abs(a[0] - b[j]) ** norm_order\n",
    "    for i in range(len(a)):\n",
    "        for j in range(i-r, min(i+r+1, len(b))):\n",
    "            neighbor = []\n",
    "            if i >= 1 and j >= 1:\n",
    "                neighbor.append(g(i-1, j-1, dp) + 2*d(i, j, a, b, norm_order))\n",
    "            if i >= 1 and j >= 2:\n",
    "                neighbor.append(g(i-1, j-2, dp) + 2*d(i, j-1, a, b, norm_order) + d(i, j, a, b, norm_order))\n",
    "            if i >= 2 and j >= 1:\n",
    "                neighbor.append(g(i-2, j-1, dp) + 2*d(i-1, j, a, b, norm_order) + d(i, j, a, b, norm_order))\n",
    "            if i >= 1 and j >= 3:\n",
    "                neighbor.append(g(i-1, j-3, dp) + 2*d(i, j-2, a, b, norm_order) + d(i, j-1, a, b, norm_order) + d(i, j, a, b, norm_order))\n",
    "            if i >= 3 and j >= 1:\n",
    "                neighbor.append(g(i-3, j-1, dp) + 2*d(i-2, j, a, b, norm_order) + d(i-1, j, a, b, norm_order) + d(i, j, a, b, norm_order))\n",
    "            if len(neighbor) == 0:\n",
    "                dp[i, j] = 0\n",
    "            else:\n",
    "                dp[i, j] = min(neighbor)\n",
    "            \n",
    "    return dp[len(a) - 1, len(b) - 1]\n",
    "\n",
    "@jit(nopython=True)\n",
    "def dtw_asymmetric(a, b, norm_order=2):\n",
    "    if len(a) != len(b):\n",
    "        raise Exception('lenght of a is not equal to b')\n",
    "    r = len(a) // 10\n",
    "    dp = np.zeros((len(a), len(b)))\n",
    "    for j in range(0, r+1):\n",
    "        dp[0, j] = abs(a[0] - b[j]) ** norm_order\n",
    "    for i in range(len(a)):\n",
    "        for j in range(i-r, min(i+r+1, len(b))):\n",
    "            neighbor = [g(i-1, j, dp) + 2*d(i, j, a, b, norm_order)]\n",
    "            if j > 0:\n",
    "                neighbor.append(g(i-1, j-1, dp) + d(i, j, a, b, norm_order))\n",
    "                neighbor.append(g(i-1, j, dp) + d(i, j, a, b, norm_order))\n",
    "            dp[i, j] = min(neighbor)\n",
    "    return dp[len(a) - 1, len(b) - 1]\n",
    "\n",
    "@jit(nopython=True)\n",
    "def dtw_asymmetric_2(a, b, norm_order=2):\n",
    "    if len(a) != len(b):\n",
    "        raise Exception('lenght of a is not equal to b')\n",
    "    r = len(a) // 10\n",
    "    dp = np.zeros((len(a), len(b)))\n",
    "    for j in range(0, r+1):\n",
    "        dp[0, j] = abs(a[0] - b[j]) ** norm_order\n",
    "    for i in range(len(a)):\n",
    "        for j in range(i-r, min(i+r+1, len(b))):\n",
    "            neighbor = [g(i-1, j, dp) + d(i, j, a, b, norm_order)]\n",
    "            if j > 0:\n",
    "                neighbor.append(g(i-1, j-1, dp) + d(i, j, a, b, norm_order))\n",
    "                neighbor.append(g(i-1, j, dp) + 2*d(i, j, a, b, norm_order))\n",
    "            dp[i, j] = min(neighbor)\n",
    "    return dp[len(a) - 1, len(b) - 1]"
   ]
  },
  {
   "cell_type": "code",
   "execution_count": 5,
   "metadata": {},
   "outputs": [],
   "source": [
    "from scipy.interpolate import interp1d\n",
    "from scipy import stats\n",
    "\n",
    "def rescale_ts(ts, length=100):\n",
    "    x = np.linspace(0, len(ts)-1, num=len(ts))\n",
    "    y = np.array(ts)\n",
    "\n",
    "    f = interp1d(x, y)\n",
    "    new_x = np.linspace(0, len(ts)-1, num=length)\n",
    "    interpolated_y = f(new_x)\n",
    "    \n",
    "    return stats.zscore(interpolated_y)"
   ]
  },
  {
   "cell_type": "code",
   "execution_count": 6,
   "metadata": {},
   "outputs": [],
   "source": [
    "new_dim = 100\n",
    "X_train_rescaled = [rescale_ts(X, new_dim) for X in X_train]\n",
    "X_test_rescaled = [rescale_ts(X, new_dim) for X in X_test]"
   ]
  },
  {
   "cell_type": "code",
   "execution_count": 7,
   "metadata": {},
   "outputs": [
    {
     "data": {
      "image/png": "[encoded data removed]",
      "text/plain": [
       "<Figure size 432x288 with 1 Axes>"
      ]
     },
     "metadata": {
      "needs_background": "light"
     },
     "output_type": "display_data"
    }
   ],
   "source": [
    "for i in range(3):\n",
    "    plt.plot(X_train_rescaled[i])"
   ]
  },
  {
   "cell_type": "code",
   "execution_count": 8,
   "metadata": {},
   "outputs": [],
   "source": [
    "from tqdm import tqdm\n",
    "\n",
    "def knn(ts, dtw=dtw, k=5, X_train=X_train_rescaled, y_train=y_train):\n",
    "    best_results = []\n",
    "    for X, y in zip(X_train, y_train):\n",
    "        best_results.append((dtw(ts, X, 2), y))\n",
    "        best_results.sort()\n",
    "        best_results = best_results[:k]\n",
    "    return best_results"
   ]
  },
  {
   "cell_type": "code",
   "execution_count": 9,
   "metadata": {},
   "outputs": [
    {
     "name": "stdout",
     "output_type": "stream",
     "text": [
      "actual : SwedishLeaf\n",
      "predicted : SwedishLeaf\n"
     ]
    }
   ],
   "source": [
    "import random\n",
    "from collections import defaultdict\n",
    "\n",
    "class_size = defaultdict(int)\n",
    "for label in y_train:\n",
    "    class_size[label] += 1\n",
    "\n",
    "def vote(knn_result):\n",
    "    table = defaultdict(float)\n",
    "    for dist, label in knn_result:\n",
    "        table[label] += 1\n",
    "    return max(table, key=table.get)\n",
    "\n",
    "\n",
    "def random_test():\n",
    "    test_index = random.randint(0, len(X_test))\n",
    "    result = knn(X_test_rescaled[test_index])\n",
    "    print('actual :', y_test[test_index])\n",
    "    return result\n",
    "\n",
    "knn_result = random_test()\n",
    "print('predicted :', vote(knn_result))"
   ]
  },
  {
   "cell_type": "code",
   "execution_count": 10,
   "metadata": {},
   "outputs": [
    {
     "name": "stderr",
     "output_type": "stream",
     "text": [
      "100%|██████████████████████████████████████████████████████████████████████████████| 1599/1599 [00:26<00:00, 61.00it/s]\n"
     ]
    }
   ],
   "source": [
    "predicted = []\n",
    "\n",
    "for x in tqdm(X_test_rescaled, total=len(X_test_rescaled)):\n",
    "    result = vote(knn(x))\n",
    "    predicted.append(result)"
   ]
  },
  {
   "cell_type": "code",
   "execution_count": 1,
   "metadata": {},
   "outputs": [
    {
     "ename": "NameError",
     "evalue": "name 'predicted' is not defined",
     "output_type": "error",
     "traceback": [
      "\u001b[1;31m---------------------------------------------------------------------------\u001b[0m",
      "\u001b[1;31mNameError\u001b[0m                                 Traceback (most recent call last)",
      "\u001b[1;32m<ipython-input-1-91d28f57f34d>\u001b[0m in \u001b[0;36m<module>\u001b[1;34m\u001b[0m\n\u001b[0;32m      1\u001b[0m \u001b[1;32mwith\u001b[0m \u001b[0mopen\u001b[0m\u001b[1;33m(\u001b[0m\u001b[1;34m'normal-predicted'\u001b[0m\u001b[1;33m,\u001b[0m \u001b[1;34m'w+'\u001b[0m\u001b[1;33m)\u001b[0m \u001b[1;32mas\u001b[0m \u001b[0mf\u001b[0m\u001b[1;33m:\u001b[0m\u001b[1;33m\u001b[0m\u001b[1;33m\u001b[0m\u001b[0m\n\u001b[1;32m----> 2\u001b[1;33m     \u001b[0mf\u001b[0m\u001b[1;33m.\u001b[0m\u001b[0mwrite\u001b[0m\u001b[1;33m(\u001b[0m\u001b[1;34m' '\u001b[0m\u001b[1;33m.\u001b[0m\u001b[0mjoin\u001b[0m\u001b[1;33m(\u001b[0m\u001b[0mpredicted\u001b[0m\u001b[1;33m)\u001b[0m\u001b[1;33m)\u001b[0m\u001b[1;33m\u001b[0m\u001b[1;33m\u001b[0m\u001b[0m\n\u001b[0m",
      "\u001b[1;31mNameError\u001b[0m: name 'predicted' is not defined"
     ]
    }
   ],
   "source": [
    "with open('normal-predicted', 'w+') as f:\n",
    "    f.write(' '.join(predicted))"
   ]
  },
  {
   "cell_type": "code",
   "execution_count": 12,
   "metadata": {},
   "outputs": [
    {
     "data": {
      "text/plain": [
       "63.85240775484678"
      ]
     },
     "execution_count": 12,
     "metadata": {},
     "output_type": "execute_result"
    }
   ],
   "source": [
    "predicted = np.array(predicted)\n",
    "score = np.sum(np.array(y_test) == predicted)\n",
    "score*100/len(y_test)"
   ]
  },
  {
   "cell_type": "code",
   "execution_count": 13,
   "metadata": {},
   "outputs": [],
   "source": [
    "from sklearn.metrics import confusion_matrix\n",
    "\n",
    "conf = confusion_matrix(y_test, predicted)"
   ]
  },
  {
   "cell_type": "code",
   "execution_count": 14,
   "metadata": {},
   "outputs": [
    {
     "data": {
      "text/plain": [
       "<AxesSubplot:>"
      ]
     },
     "execution_count": 14,
     "metadata": {},
     "output_type": "execute_result"
    },
    {
     "data": {
      "image/png": "[encoded data removed]",
      "text/plain": [
       "<Figure size 432x288 with 2 Axes>"
      ]
     },
     "metadata": {
      "needs_background": "light"
     },
     "output_type": "display_data"
    }
   ],
   "source": [
    "import seaborn as sn\n",
    "\n",
    "sn.heatmap(conf)"
   ]
  },
  {
   "cell_type": "code",
   "execution_count": 15,
   "metadata": {},
   "outputs": [
    {
     "name": "stderr",
     "output_type": "stream",
     "text": [
      "100%|██████████████████████████████████████████████████████████████████████████████| 1599/1599 [28:22<00:00,  1.06s/it]\n"
     ]
    }
   ],
   "source": [
    "predicted = []\n",
    "\n",
    "for x in tqdm(X_test_rescaled, total=len(X_test_rescaled)):\n",
    "    result = vote(knn(x, dtw=dtw_extra_neighbor))\n",
    "    predicted.append(result)"
   ]
  },
  {
   "cell_type": "code",
   "execution_count": 16,
   "metadata": {},
   "outputs": [],
   "source": [
    "with open('more-neighbor-predicted', 'w+') as f:\n",
    "    f.write(' '.join(predicted))"
   ]
  },
  {
   "cell_type": "code",
   "execution_count": 17,
   "metadata": {},
   "outputs": [
    {
     "data": {
      "text/plain": [
       "71.85741088180113"
      ]
     },
     "execution_count": 17,
     "metadata": {},
     "output_type": "execute_result"
    }
   ],
   "source": [
    "predicted = np.array(predicted)\n",
    "score = np.sum(np.array(y_test) == predicted)\n",
    "score*100/len(y_test)"
   ]
  },
  {
   "cell_type": "code",
   "execution_count": 18,
   "metadata": {},
   "outputs": [
    {
     "data": {
      "text/plain": [
       "<AxesSubplot:>"
      ]
     },
     "execution_count": 18,
     "metadata": {},
     "output_type": "execute_result"
    },
    {
     "data": {
      "image/png": "[encoded data removed]",
      "text/plain": [
       "<Figure size 432x288 with 2 Axes>"
      ]
     },
     "metadata": {
      "needs_background": "light"
     },
     "output_type": "display_data"
    }
   ],
   "source": [
    "conf = confusion_matrix(y_test, predicted)\n",
    "sn.heatmap(conf)"
   ]
  },
  {
   "cell_type": "code",
   "execution_count": 19,
   "metadata": {},
   "outputs": [
    {
     "name": "stderr",
     "output_type": "stream",
     "text": [
      "100%|██████████████████████████████████████████████████████████████████████████████| 1599/1599 [27:00<00:00,  1.01s/it]\n"
     ]
    }
   ],
   "source": [
    "predicted = []\n",
    "\n",
    "for x in tqdm(X_test_rescaled, total=len(X_test_rescaled)):\n",
    "    result = vote(knn(x, dtw=dtw_asymmetric))\n",
    "    predicted.append(result)"
   ]
  },
  {
   "cell_type": "code",
   "execution_count": 20,
   "metadata": {},
   "outputs": [],
   "source": [
    "with open('asymmetric-predicted', 'w+') as f:\n",
    "    f.write(' '.join(predicted))"
   ]
  },
  {
   "cell_type": "code",
   "execution_count": 21,
   "metadata": {},
   "outputs": [
    {
     "data": {
      "text/plain": [
       "86.30393996247655"
      ]
     },
     "execution_count": 21,
     "metadata": {},
     "output_type": "execute_result"
    }
   ],
   "source": [
    "predicted = np.array(predicted)\n",
    "score = np.sum(np.array(y_test) == predicted)\n",
    "score*100/len(y_test)"
   ]
  },
  {
   "cell_type": "code",
   "execution_count": 22,
   "metadata": {},
   "outputs": [
    {
     "data": {
      "text/plain": [
       "<AxesSubplot:>"
      ]
     },
     "execution_count": 22,
     "metadata": {},
     "output_type": "execute_result"
    },
    {
     "data": {
      "image/png": "[encoded data removed]",
      "text/plain": [
       "<Figure size 432x288 with 2 Axes>"
      ]
     },
     "metadata": {
      "needs_background": "light"
     },
     "output_type": "display_data"
    }
   ],
   "source": [
    "conf = confusion_matrix(y_test, predicted)\n",
    "sn.heatmap(conf)"
   ]
  },
  {
   "cell_type": "code",
   "execution_count": 24,
   "metadata": {},
   "outputs": [
    {
     "name": "stderr",
     "output_type": "stream",
     "text": [
      "100%|██████████████████████████████████████████████████████████████████████████████| 1599/1599 [22:26<00:00,  1.19it/s]\n"
     ]
    }
   ],
   "source": [
    "predicted = []\n",
    "\n",
    "for x in tqdm(X_test_rescaled, total=len(X_test_rescaled)):\n",
    "    result = vote(knn(x, dtw=dtw_asymmetric_2))\n",
    "    predicted.append(result)"
   ]
  },
  {
   "cell_type": "code",
   "execution_count": 25,
   "metadata": {},
   "outputs": [],
   "source": [
    "with open('asymmetric-2-predicted', 'w+') as f:\n",
    "    f.write(' '.join(predicted))"
   ]
  },
  {
   "cell_type": "code",
   "execution_count": 26,
   "metadata": {},
   "outputs": [
    {
     "data": {
      "text/plain": [
       "86.30393996247655"
      ]
     },
     "execution_count": 26,
     "metadata": {},
     "output_type": "execute_result"
    }
   ],
   "source": [
    "predicted = np.array(predicted)\n",
    "score = np.sum(np.array(y_test) == predicted)\n",
    "score*100/len(y_test)"
   ]
  },
  {
   "cell_type": "code",
   "execution_count": 27,
   "metadata": {},
   "outputs": [
    {
     "data": {
      "text/plain": [
       "<AxesSubplot:>"
      ]
     },
     "execution_count": 27,
     "metadata": {},
     "output_type": "execute_result"
    },
    {
     "data": {
      "image/png": "[encoded data removed]",
      "text/plain": [
       "<Figure size 432x288 with 2 Axes>"
      ]
     },
     "metadata": {
      "needs_background": "light"
     },
     "output_type": "display_data"
    }
   ],
   "source": [
    "conf = confusion_matrix(y_test, predicted)\n",
    "sn.heatmap(conf)"
   ]
  }
 ],
 "metadata": {
  "kernelspec": {
   "display_name": "Python 3",
   "language": "python",
   "name": "python3"
  },
  "language_info": {
   "codemirror_mode": {
    "name": "ipython",
    "version": 3
   },
   "file_extension": ".py",
   "mimetype": "text/x-python",
   "name": "python",
   "nbconvert_exporter": "python",
   "pygments_lexer": "ipython3",
   "version": "3.8.3"
  }
 },
 "nbformat": 4,
 "nbformat_minor": 4
}

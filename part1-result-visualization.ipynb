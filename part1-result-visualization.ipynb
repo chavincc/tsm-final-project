{
 "cells": [
  {
   "cell_type": "code",
   "execution_count": 5,
   "metadata": {},
   "outputs": [],
   "source": [
    "import numpy as np\n",
    "import glob\n",
    "import os\n",
    "from matplotlib import pyplot as plt\n",
    "\n",
    "X_train = []\n",
    "X_test = []\n",
    "y_train = []\n",
    "y_test = []\n",
    "\n",
    "used = ['Adiac', 'Beef', 'Coffee', 'ECG200', 'FISH', 'Gun_Point', 'SwedishLeaf', 'Trace']\n",
    "\n",
    "for f_name in glob.glob('ClassificationClusteringDatasets/*_TRAIN'):\n",
    "    label = os.path.split(f_name)[1].replace('_TRAIN', '')\n",
    "    if label not in used:\n",
    "        continue\n",
    "    with open(f_name, 'r') as f:\n",
    "        ts = f.read()\n",
    "        for t in ts.split('\\n'):\n",
    "            if(t.strip() == ''):\n",
    "                continue\n",
    "            X_train.append([float(i) for i in t.split()])\n",
    "            y_train.append(label)\n",
    "\n",
    "for f_name in glob.glob('ClassificationClusteringDatasets/*_TEST'):\n",
    "    label = os.path.split(f_name)[1].replace('_TEST', '')\n",
    "    if label not in used:\n",
    "        continue\n",
    "    with open(f_name, 'r') as f:\n",
    "        ts = f.read()\n",
    "        for t in ts.split('\\n'):\n",
    "            if(t.strip() == ''):\n",
    "                continue\n",
    "            X_test.append([float(i) for i in t.split()])\n",
    "            y_test.append(label)"
   ]
  },
  {
   "cell_type": "code",
   "execution_count": 6,
   "metadata": {},
   "outputs": [],
   "source": [
    "from scipy.interpolate import interp1d\n",
    "from scipy import stats\n",
    "\n",
    "def rescale_ts(ts, length=100):\n",
    "    x = np.linspace(0, len(ts)-1, num=len(ts))\n",
    "    y = np.array(ts)\n",
    "\n",
    "    f = interp1d(x, y)\n",
    "    new_x = np.linspace(0, len(ts)-1, num=length)\n",
    "    interpolated_y = f(new_x)\n",
    "    \n",
    "    return stats.zscore(interpolated_y)"
   ]
  },
  {
   "cell_type": "code",
   "execution_count": 7,
   "metadata": {},
   "outputs": [],
   "source": [
    "new_dim = 100\n",
    "X_train_rescaled = [rescale_ts(X, new_dim) for X in X_train]\n",
    "X_test_rescaled = [rescale_ts(X, new_dim) for X in X_test]"
   ]
  },
  {
   "cell_type": "code",
   "execution_count": 8,
   "metadata": {},
   "outputs": [
    {
     "data": {
      "image/png": "[encoded data removed]",
      "text/plain": [
       "<Figure size 432x288 with 1 Axes>"
      ]
     },
     "metadata": {
      "needs_background": "light"
     },
     "output_type": "display_data"
    }
   ],
   "source": [
    "for i in range(3):\n",
    "    plt.plot(X_train_rescaled[i])"
   ]
  },
  {
   "cell_type": "code",
   "execution_count": 17,
   "metadata": {},
   "outputs": [
    {
     "data": {
      "text/plain": [
       "63.85240775484678"
      ]
     },
     "execution_count": 17,
     "metadata": {},
     "output_type": "execute_result"
    }
   ],
   "source": [
    "with open('normal-predicted', 'r') as f:\n",
    "    predicted = f.read().split()\n",
    "    \n",
    "predicted = np.array(predicted)\n",
    "score = np.sum(np.array(y_test) == predicted)\n",
    "score*100/len(y_test)"
   ]
  },
  {
   "cell_type": "code",
   "execution_count": 18,
   "metadata": {},
   "outputs": [],
   "source": [
    "from sklearn.metrics import confusion_matrix\n",
    "import seaborn as sn"
   ]
  },
  {
   "cell_type": "code",
   "execution_count": 26,
   "metadata": {},
   "outputs": [],
   "source": [
    "conf = confusion_matrix(y_test, predicted)"
   ]
  },
  {
   "cell_type": "code",
   "execution_count": 27,
   "metadata": {},
   "outputs": [],
   "source": [
    "conf = conf.astype('float') / conf.sum(axis=1)[:, np.newaxis]"
   ]
  },
  {
   "cell_type": "code",
   "execution_count": 28,
   "metadata": {},
   "outputs": [
    {
     "data": {
      "text/plain": [
       "<AxesSubplot:>"
      ]
     },
     "execution_count": 28,
     "metadata": {},
     "output_type": "execute_result"
    },
    {
     "data": {
      "image/png": "[encoded data removed]",
      "text/plain": [
       "<Figure size 432x288 with 2 Axes>"
      ]
     },
     "metadata": {
      "needs_background": "light"
     },
     "output_type": "display_data"
    }
   ],
   "source": [
    "sn.heatmap(conf)"
   ]
  },
  {
   "cell_type": "code",
   "execution_count": 29,
   "metadata": {},
   "outputs": [
    {
     "data": {
      "text/plain": [
       "71.85741088180113"
      ]
     },
     "execution_count": 29,
     "metadata": {},
     "output_type": "execute_result"
    }
   ],
   "source": [
    "with open('more-neighbor-predicted', 'r') as f:\n",
    "    predicted = f.read().split()\n",
    "    \n",
    "predicted = np.array(predicted)\n",
    "score = np.sum(np.array(y_test) == predicted)\n",
    "score*100/len(y_test)"
   ]
  },
  {
   "cell_type": "code",
   "execution_count": 30,
   "metadata": {},
   "outputs": [],
   "source": [
    "conf = confusion_matrix(y_test, predicted)"
   ]
  },
  {
   "cell_type": "code",
   "execution_count": 31,
   "metadata": {},
   "outputs": [],
   "source": [
    "conf = conf.astype('float') / conf.sum(axis=1)[:, np.newaxis]"
   ]
  },
  {
   "cell_type": "code",
   "execution_count": 32,
   "metadata": {},
   "outputs": [
    {
     "data": {
      "text/plain": [
       "<AxesSubplot:>"
      ]
     },
     "execution_count": 32,
     "metadata": {},
     "output_type": "execute_result"
    },
    {
     "data": {
      "image/png": "[encoded data removed]",
      "text/plain": [
       "<Figure size 432x288 with 2 Axes>"
      ]
     },
     "metadata": {
      "needs_background": "light"
     },
     "output_type": "display_data"
    }
   ],
   "source": [
    "sn.heatmap(conf)"
   ]
  },
  {
   "cell_type": "code",
   "execution_count": 36,
   "metadata": {},
   "outputs": [
    {
     "data": {
      "text/plain": [
       "86.30393996247655"
      ]
     },
     "execution_count": 36,
     "metadata": {},
     "output_type": "execute_result"
    }
   ],
   "source": [
    "with open('asymmetric-predicted', 'r') as f:\n",
    "    predicted = f.read().split()\n",
    "    \n",
    "predicted = np.array(predicted)\n",
    "score = np.sum(np.array(y_test) == predicted)\n",
    "score*100/len(y_test)"
   ]
  },
  {
   "cell_type": "code",
   "execution_count": 38,
   "metadata": {},
   "outputs": [],
   "source": [
    "conf = confusion_matrix(y_test, predicted)"
   ]
  },
  {
   "cell_type": "code",
   "execution_count": 39,
   "metadata": {},
   "outputs": [],
   "source": [
    "conf = conf.astype('float') / conf.sum(axis=1)[:, np.newaxis]"
   ]
  },
  {
   "cell_type": "code",
   "execution_count": 40,
   "metadata": {},
   "outputs": [
    {
     "data": {
      "text/plain": [
       "<AxesSubplot:>"
      ]
     },
     "execution_count": 40,
     "metadata": {},
     "output_type": "execute_result"
    },
    {
     "data": {
      "image/png": "[encoded data removed]",
      "text/plain": [
       "<Figure size 432x288 with 2 Axes>"
      ]
     },
     "metadata": {
      "needs_background": "light"
     },
     "output_type": "display_data"
    }
   ],
   "source": [
    "sn.heatmap(conf)"
   ]
  },
  {
   "cell_type": "code",
   "execution_count": 34,
   "metadata": {},
   "outputs": [
    {
     "data": {
      "text/plain": [
       "array(['Adiac', 'Beef', 'Coffee', 'ECG200', 'FISH', 'Gun_Point',\n",
       "       'SwedishLeaf', 'Trace'], dtype='<U11')"
      ]
     },
     "execution_count": 34,
     "metadata": {},
     "output_type": "execute_result"
    }
   ],
   "source": [
    "np.unique(y_test)"
   ]
  },
  {
   "cell_type": "code",
   "execution_count": 35,
   "metadata": {},
   "outputs": [
    {
     "data": {
      "text/plain": [
       "SwedishLeaf    625\n",
       "Adiac          391\n",
       "FISH           175\n",
       "Gun_Point      150\n",
       "ECG200         100\n",
       "Trace          100\n",
       "Beef            30\n",
       "Coffee          28\n",
       "Name: 0, dtype: int64"
      ]
     },
     "execution_count": 35,
     "metadata": {},
     "output_type": "execute_result"
    }
   ],
   "source": [
    "import pandas as pd\n",
    "\n",
    "df = pd.DataFrame(y_test)\n",
    "df[0].value_counts()"
   ]
  },
  {
   "cell_type": "code",
   "execution_count": null,
   "metadata": {},
   "outputs": [],
   "source": [
    "for data in ts:\n",
    "    data = rescale_ts(data)\n",
    "    plt.plot(data, alpha=0.25)\n",
    "plt.show()"
   ]
  }
 ],
 "metadata": {
  "kernelspec": {
   "display_name": "Python 3",
   "language": "python",
   "name": "python3"
  },
  "language_info": {
   "codemirror_mode": {
    "name": "ipython",
    "version": 3
   },
   "file_extension": ".py",
   "mimetype": "text/x-python",
   "name": "python",
   "nbconvert_exporter": "python",
   "pygments_lexer": "ipython3",
   "version": "3.8.3"
  }
 },
 "nbformat": 4,
 "nbformat_minor": 4
}
